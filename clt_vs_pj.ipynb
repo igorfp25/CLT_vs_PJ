{
 "cells": [
  {
   "cell_type": "markdown",
   "metadata": {
    "pycharm": {}
   },
   "source": [
    "# CLT vs PJ"
   ]
  },
  {
   "cell_type": "code",
   "execution_count": 1,
   "metadata": {
    "pycharm": {
     "is_executing": false
    }
   },
   "outputs": [],
   "source": [
    "import pandas as pd\n",
    "import DescontosBeneficiosCLT as CLT\n",
    "import DescontosPJ as PJ"
   ]
  },
  {
   "cell_type": "markdown",
   "metadata": {},
   "source": [
    "## Introdução"
   ]
  },
  {
   "cell_type": "markdown",
   "metadata": {},
   "source": [
    "Este documento visa apresentar um comparativo entre os valores líquidos recebidos entre as modalidades de contratação CLT e PJ. Auxiliando profissionais (principalmente na área de TI) a avaliar propostas de trabalho em diferente modalidades. Auxiliando também na compreensão dos direitos e deveres associados a cada uma das modalidades de contratação.\n",
    "\n",
    "Para os cálculos apresentados serão apresentados resultados para os diferentes métodos de pagamento do Imposto de Renda sobre Pessoa Física (pagamento simplificado e completo). \n",
    "\n",
    "Os resultados apresentados são estimativas e podem variar por diversos fatores: numero de hora trabalhadas (PJ), abatimentos nos cálculos do IR, reajustes, ...."
   ]
  },
  {
   "cell_type": "markdown",
   "metadata": {},
   "source": [
    "\\* *É permitido a livre divulgação, modificação e utilização deste documento e deste repositório de acordo com os termos de [licença](files/LICENSE) MIT. Caso queira contribuir com melhorias e correções, faça-o através do repositório no Github.*"
   ]
  },
  {
   "cell_type": "markdown",
   "metadata": {
    "pycharm": {}
   },
   "source": [
    "## Parâmetros"
   ]
  },
  {
   "cell_type": "markdown",
   "metadata": {},
   "source": [
    "Apenas as variáveis abaixo (dentro da seção \"Parâmetros\") precisam ser alteradas. Não há necessidade de alterar nenhum outro campo dentro de outras seções deste documento."
   ]
  },
  {
   "cell_type": "markdown",
   "metadata": {},
   "source": [
    "Informações referentes à modalidade **CLT**:"
   ]
  },
  {
   "cell_type": "code",
   "execution_count": 2,
   "metadata": {},
   "outputs": [],
   "source": [
    "salario_mensal_bruto = 10000 # Salário bruto recebido mensalmente na modalidade CLT\n",
    "\n",
    "PLR = 2*salario_mensal_bruto  # Valor da PLR ou Bonus anual recebidos na modalidade CLT\n",
    "\n",
    "VA_VR = 1500.00  # Valor mensal de Vale Alimentação e Vale Refeição somados"
   ]
  },
  {
   "cell_type": "markdown",
   "metadata": {},
   "source": [
    "Informações referentes à modalidade **PJ**. Normalmente, para a modalidade PJ o contrato estipula o pagamento por horas trabalhadas, dessa forma é solicitado que seja informado o salário/hora.\n",
    "\n",
    "Na modalidade PJ, férias normalmente não são remuneradas, dessa forma deve-se informar o número de dias de férias no ano para que não seja considerado nenhum faturamento no período de férias. \n",
    "\n",
    "Deve-se considerar também custos relacionados como contratação de Contados, custo de aluguel de escritório (físico ou virtual), contratação de plano de saúde (para que a comparação fique justa com a proposta CLT que oferece plano de saúde), ..."
   ]
  },
  {
   "cell_type": "code",
   "execution_count": 3,
   "metadata": {},
   "outputs": [],
   "source": [
    "salario_PJ_hora = 100.00  # Salário/hora (R$/h) na modalidade PJ\n",
    "horas_mes = 170  # Número de horas trabalhadas no mês\n",
    "dias_ferias = 30  # Número de dias corridos de férias por ano (não remunerados na modalidade PJ)\n",
    "\n",
    "contador = 100.00  # Custos mensais com contador\n",
    "outros_custos = 0.00  # Outros custos mensais para operação da empresa e.g.: aluguel de escritório, custos com equipamentos, ...\n",
    "seguro_saude = 0.00  # Custo mensal do Plano de saúde de saúde que precisa serm contratado a parte."
   ]
  },
  {
   "cell_type": "markdown",
   "metadata": {},
   "source": [
    "Informações complementares"
   ]
  },
  {
   "cell_type": "code",
   "execution_count": 4,
   "metadata": {},
   "outputs": [],
   "source": [
    "numero_dependentes = 1  # Número de dependentes para abatimento no IR - será utilizado tanto para cálculo CLT quanto PJ"
   ]
  },
  {
   "cell_type": "markdown",
   "metadata": {
    "pycharm": {}
   },
   "source": [
    "## Cálculos CLT"
   ]
  },
  {
   "cell_type": "markdown",
   "metadata": {},
   "source": [
    "Cálculo dos descontos e benefícios na modalidade CLT"
   ]
  },
  {
   "cell_type": "markdown",
   "metadata": {},
   "source": [
    "#### INSS (mensal)"
   ]
  },
  {
   "cell_type": "code",
   "execution_count": 5,
   "metadata": {},
   "outputs": [
    {
     "name": "stdout",
     "output_type": "stream",
     "text": [
      "Valor mensal do INSS: R$ 751.99\n"
     ]
    }
   ],
   "source": [
    "INSS_mensal = CLT.INSS(salario_mensal_bruto)\n",
    "print(f\"Valor mensal do INSS: R$ {INSS_mensal:,.2f}\")"
   ]
  },
  {
   "cell_type": "markdown",
   "metadata": {},
   "source": [
    "#### Imposto de Renda mensal sobre o salário (mensal)"
   ]
  },
  {
   "cell_type": "code",
   "execution_count": 6,
   "metadata": {},
   "outputs": [
    {
     "name": "stdout",
     "output_type": "stream",
     "text": [
      "IR Simplificado sobre o salário: R$ 1,330.64\n",
      "IR Completo sobre o salário: R$ 1,621.71\n"
     ]
    }
   ],
   "source": [
    "salario_base = salario_mensal_bruto - INSS_mensal  # Salário Base para cálculo do IR, com os devidos descontos\n",
    "\n",
    "IR_mensal_simplificado = CLT.IR_Mensal_Simplificado(salario_mensal_bruto)  # Opção de IR sobre salário com cálculo simplificado\n",
    "IR_mensal_completo = CLT.IR_Mensal(salario_base, numero_dependentes)  # Opção de IR sobre salário com cálculo completo\n",
    "\n",
    "print(f\"IR Simplificado sobre o salário: R$ {IR_mensal_simplificado:,.2f}\")\n",
    "print(f\"IR Completo sobre o salário: R$ {IR_mensal_completo:,.2f}\")"
   ]
  },
  {
   "cell_type": "markdown",
   "metadata": {},
   "source": [
    "#### FGTS"
   ]
  },
  {
   "cell_type": "markdown",
   "metadata": {},
   "source": [
    "Para uma comparação justa com a modalidade PJ, o rendimento do FGTS não será considerado. Além disso, é importante salientar que o valor recebido via FGTS não é totalmente líquido, tendo sua utilização e resgate condicionados à ocasiões estabelecidas pela legislação.\n",
    "\n",
    "Os cálculos abaixo também não consideram os optantes pela modalidade de Saque-Aniversário, dado que nesta modalidade sim há o resgate parcial de forma líquida deste benefício."
   ]
  },
  {
   "cell_type": "code",
   "execution_count": 7,
   "metadata": {},
   "outputs": [
    {
     "name": "stdout",
     "output_type": "stream",
     "text": [
      "Valor mensal do FGTS: R$ 800.00\n"
     ]
    }
   ],
   "source": [
    "numero_meses = 1  # número de meses a considerar\n",
    "incluir_multa = False  # Incluir o valor de 40% de Multa de demissão sem justa causa?\n",
    "incluir_rendimento = False  # Incluir o cálculo do rendimento de juros do FGTS?\n",
    "\n",
    "FGTS_mensal = CLT.FGTS(salario_mensal_bruto, numero_meses, incluir_multa, incluir_rendimento)\n",
    "\n",
    "print(f\"Valor mensal do FGTS: R$ {FGTS_mensal:,.2f}\")"
   ]
  },
  {
   "cell_type": "markdown",
   "metadata": {},
   "source": [
    "#### Salário de Férias"
   ]
  },
  {
   "cell_type": "markdown",
   "metadata": {},
   "source": [
    "Neste cálculo é considerado o salário de férias no valor de 1+1/3 salário. E em seguida já é realizado o cálculo dos devidos descontos."
   ]
  },
  {
   "cell_type": "code",
   "execution_count": 8,
   "metadata": {},
   "outputs": [
    {
     "name": "stdout",
     "output_type": "stream",
     "text": [
      "Valor do salário de férias bruto: R$ 13,333.33\n",
      "INSS sobre o salário de férias: R$ 751.99\n",
      "IR Simplificado sobre o salário de férias: R$ 2,063.97\n",
      "IR Completo sobre o salário de férias: R$ 2,538.37\n"
     ]
    }
   ],
   "source": [
    "salario_ferias = CLT.Salario_Ferias_Bruto(salario_mensal_bruto)\n",
    "\n",
    "INSS_ferias = CLT.INSS(salario_ferias)  # Desconto de INSS no salário de férias\n",
    "\n",
    "salario_base_ferias = salario_ferias - INSS_ferias  # Salário de Férias Base para cálculo do IR, com os devidos descontos\n",
    "IR_ferias_completo = CLT.IR_Mensal(salario_base_ferias, numero_dependentes)  # Opção de IR sobre ferias com cálculo completo\n",
    "IR_ferias_simplificado = CLT.IR_Mensal_Simplificado(salario_ferias)  # Opção de IR sobre ferias com cálculo simplificado\n",
    "\n",
    "print(f\"Valor do salário de férias bruto: R$ {salario_ferias:,.2f}\")\n",
    "print(f\"INSS sobre o salário de férias: R$ {INSS_ferias:,.2f}\")\n",
    "print(f\"IR Simplificado sobre o salário de férias: R$ {IR_ferias_simplificado:,.2f}\")\n",
    "print(f\"IR Completo sobre o salário de férias: R$ {IR_ferias_completo:,.2f}\")"
   ]
  },
  {
   "cell_type": "markdown",
   "metadata": {},
   "source": [
    "#### 13º Salário"
   ]
  },
  {
   "cell_type": "code",
   "execution_count": 9,
   "metadata": {},
   "outputs": [
    {
     "name": "stdout",
     "output_type": "stream",
     "text": [
      "Valor bruto do 13º salário: R$ 10,000.00\n",
      "INSS sobre o 13º salário: R$ 751.99\n",
      "IR Simplificado sobre o 13º salário: R$ 1,330.64\n",
      "IR Completo sobre o 13º salário: R$ 1,621.71\n"
     ]
    }
   ],
   "source": [
    "salario_13_bruto = salario_mensal_bruto\n",
    "\n",
    "INSS_13o = CLT.INSS(salario_13_bruto)  # Desconto de INSS no 13º salário\n",
    "\n",
    "salario_base_13o = salario_13_bruto - INSS_13o  # 13o Salário Base para cálculo do IR, com os devidos descontos\n",
    "IR_13o_completo = CLT.IR_Mensal(salario_base_13o, numero_dependentes)  # Opção de IR sobre 13º com cálculo completo\n",
    "IR_13o_simplificado = CLT.IR_Mensal_Simplificado(salario_13_bruto)  # Opção de IR sobre 13º com cálculo simplificado\n",
    "\n",
    "print(f\"Valor bruto do 13º salário: R$ {salario_13_bruto:,.2f}\")\n",
    "print(f\"INSS sobre o 13º salário: R$ {INSS_13o:,.2f}\")\n",
    "print(f\"IR Simplificado sobre o 13º salário: R$ {IR_13o_simplificado:,.2f}\")\n",
    "print(f\"IR Completo sobre o 13º salário: R$ {IR_13o_completo:,.2f}\")"
   ]
  },
  {
   "cell_type": "markdown",
   "metadata": {},
   "source": [
    "#### PLR / Bônus"
   ]
  },
  {
   "cell_type": "markdown",
   "metadata": {},
   "source": [
    "Cálculo dos descontos aplicados sobre a PLR"
   ]
  },
  {
   "cell_type": "code",
   "execution_count": 10,
   "metadata": {},
   "outputs": [
    {
     "name": "stdout",
     "output_type": "stream",
     "text": [
      "IR Completo sobre o PLR anual: R$ 2,448.47\n"
     ]
    }
   ],
   "source": [
    "IR_PLR = CLT.IR_PLR(PLR)\n",
    "\n",
    "print(f\"IR Completo sobre o PLR anual: R$ {IR_PLR:,.2f}\")"
   ]
  },
  {
   "cell_type": "markdown",
   "metadata": {
    "pycharm": {}
   },
   "source": [
    "### Resumo dos Cálculos Anuais"
   ]
  },
  {
   "cell_type": "markdown",
   "metadata": {},
   "source": [
    "Para o cálculo anual serão considerados os sálarios de 11 meses de trabalho mais 1 mês de férias. Os valores podem variar dentro do primeiro ano de contratação, dado que neste período o funcinário não possui o benefício das férias."
   ]
  },
  {
   "cell_type": "code",
   "execution_count": 11,
   "metadata": {
    "pycharm": {
     "is_executing": false
    }
   },
   "outputs": [],
   "source": [
    "# 11 meses de trabalho (1 mês de férias)\n",
    "salario_anual_liq_simp = (salario_mensal_bruto - INSS_mensal - IR_mensal_simplificado) * 11  # Salário líquido anual com IR Simplificado\n",
    "salario_anual_liq_comp = (salario_mensal_bruto - INSS_mensal - IR_mensal_completo) * 11  # Salário líquido anual com IR Completo\n",
    "\n",
    "salario_13_liq_simp = salario_13_bruto - INSS_13o - IR_13o_simplificado  # 13º Salário Líquido com desconto de IR Simplificado\n",
    "salario_13_liq_comp = salario_13_bruto - INSS_13o - IR_13o_completo  # 13º Salário Líquido com desconto de IR Completo\n",
    "\n",
    "salario_ferias_liq_simp = salario_ferias - INSS_ferias - IR_ferias_simplificado  # Salário de Férias Líquido com desconto de IR Simplificado\n",
    "salario_ferias_liq_comp = salario_ferias - INSS_ferias - IR_ferias_completo  # Salário de Férias Líquido com desconto de IR Completo\n",
    "\n",
    "PLR_liquido = PLR - IR_PLR  # Valor da PLR líquido no ano\n"
   ]
  },
  {
   "cell_type": "code",
   "execution_count": 12,
   "metadata": {},
   "outputs": [
    {
     "name": "stdout",
     "output_type": "stream",
     "text": [
      "Salário mensal bruto: R$ 10,000.00\n",
      "Salário anual bruto: R$ 182,000.00\n",
      "Salário anual líquido + benefícios (IR Simplificado): R$ 151,744.01\n",
      "Salário anual líquido + benefícios (IR Completo): R$ 147,776.77\n"
     ]
    }
   ],
   "source": [
    "# Salario + benefícios Brutos\n",
    "CLT_bruto_anual = salario_mensal_bruto*12 + salario_ferias + PLR + FGTS_mensal*(13+1/3) + VA_VR*12\n",
    "\n",
    "# Salario + benefícios Líquidos\n",
    "CLT_liquido_anual_simp = salario_anual_liq_simp + salario_13_liq_simp + salario_ferias_liq_simp + PLR_liquido + FGTS_mensal*(13+1/3) + VA_VR*12\n",
    "CLT_liquido_anual_comp = salario_anual_liq_comp + salario_13_liq_comp + salario_ferias_liq_comp + PLR_liquido + FGTS_mensal*(13+1/3) + VA_VR*12\n",
    "\n",
    "print(f\"Salário mensal bruto: R$ {salario_mensal_bruto:,.2f}\")  # Sálario mensal Bruto\n",
    "print(f\"Salário anual bruto: R$ {CLT_bruto_anual:,.2f}\")  # Salario anual Bruto\n",
    "print(f\"Salário anual líquido + benefícios (IR Simplificado): R$ {CLT_liquido_anual_simp:,.2f}\")  # Salario Líquido + benefícios\n",
    "print(f\"Salário anual líquido + benefícios (IR Completo): R$ {CLT_liquido_anual_comp:,.2f}\")  # Salario Líquido + benefícios"
   ]
  },
  {
   "cell_type": "code",
   "execution_count": 13,
   "metadata": {
    "pycharm": {
     "is_executing": false
    }
   },
   "outputs": [],
   "source": [
    "# Agregando os resultados dos cálculos para CLT Simplificado\n",
    "resultado_CLT_Simp = []  # Montar variável com resultados CLT Simplificado\n",
    "\n",
    "resultado_CLT_Simp.append(f'R$ {salario_mensal_bruto:,.2f} /mês')  # Ref\n",
    "resultado_CLT_Simp.append(salario_mensal_bruto)  # Salário Mensal\n",
    "resultado_CLT_Simp.append(salario_mensal_bruto-INSS_mensal-IR_mensal_simplificado)  # Salário Mensal Líquido\n",
    "resultado_CLT_Simp.append((salario_mensal_bruto-INSS_mensal-IR_mensal_simplificado)*12)  # Salário Anual Líquido\n",
    "resultado_CLT_Simp.append(CLT_liquido_anual_simp)  # Liquido + Benefícios (Anual)"
   ]
  },
  {
   "cell_type": "code",
   "execution_count": 14,
   "metadata": {},
   "outputs": [],
   "source": [
    "# Agregando os resultados dos cálculos para CLT Completo\n",
    "resultado_CLT_Comp = []  # Montar variável com resultados CLT Completo\n",
    "\n",
    "resultado_CLT_Comp.append(f'R$ {salario_mensal_bruto:,.2f} /mês')  # Ref\n",
    "resultado_CLT_Comp.append(salario_mensal_bruto)  # Salário Mensal\n",
    "resultado_CLT_Comp.append(salario_mensal_bruto-INSS_mensal-IR_mensal_completo)  # Salário Mensal Líquido\n",
    "resultado_CLT_Comp.append((salario_mensal_bruto-INSS_mensal-IR_mensal_completo)*12)  # Salário Anual Líquido\n",
    "resultado_CLT_Comp.append(CLT_liquido_anual_comp)  # Liquido + Benefícios (Anual)"
   ]
  },
  {
   "cell_type": "markdown",
   "metadata": {
    "pycharm": {}
   },
   "source": [
    "## PJ SIMPLES NACIONAL (ANEXO III)"
   ]
  },
  {
   "cell_type": "markdown",
   "metadata": {},
   "source": [
    "Nesta seção serão considerados apenas os cálculos para empresas que se enquadram no Anexo III do Simples Nacional.\n",
    "\n",
    "Para que prestadores de serviço possam se enquadrar nessa modalidade é necessário que o fator R (cálculado abaixo) esteja dentro do limite estabelecido."
   ]
  },
  {
   "cell_type": "markdown",
   "metadata": {},
   "source": [
    "#### Faturamento mensal e anual PJ"
   ]
  },
  {
   "cell_type": "code",
   "execution_count": 15,
   "metadata": {},
   "outputs": [
    {
     "name": "stdout",
     "output_type": "stream",
     "text": [
      "Faturamento mensal PJ: R$ 17,000.00\n",
      "Faturamento mensal PJ: R$ 187,000.00\n"
     ]
    }
   ],
   "source": [
    "receita_mensal_PJ = salario_PJ_hora * horas_mes  # Faturamento mensal PJ\n",
    "meses_ferias = dias_ferias / 30  # Converte o numero de dias de férias para mêses para auxiliar no cálculo anual. Está aproximado o valor de 30 dias em um mês.\n",
    "receita_anual_PJ = receita_mensal_PJ * (12 - meses_ferias)  # Cáculo da receita anual descontado os dias de férias não remuneradas\n",
    "\n",
    "print(f\"Faturamento mensal PJ: R$ {receita_mensal_PJ:,.2f}\")  # Faturamento mensal PJ\n",
    "print(f\"Faturamento mensal PJ: R$ {receita_anual_PJ:,.2f}\")  # Faturamento anual PJ"
   ]
  },
  {
   "cell_type": "markdown",
   "metadata": {},
   "source": [
    "#### Cálculo do Pro-Labore"
   ]
  },
  {
   "cell_type": "markdown",
   "metadata": {},
   "source": [
    "Para enquadramento de prestadores de serviço no Anexo III do Simples Nacional, a empresa deve possuir um Fator R acima de **0.28** (ou **28%**).\n",
    "O fator R é calculado dividindo o Pro-Labore pela receita bruta.\n",
    "\n",
    "O Pró-Labore é a remunueração dos sócios da empresa\\*, neste documento estamos considerando um sócio único (uma única pessoa trabalhando dentro da modalidade PJ). \n",
    "\n",
    "Há incidência de Imposto de Renda sobre a remuneração do Pró-Labore, dessa forma, é desejável mantê-lo próximo ao limite permitido. Para os cálculos a seguir será considerado um Fator R de 30% (como margem de segurança).\n",
    "\n",
    "\\* *Além do Pró-Labore, os demais rendimentos líquidos da empresa serão repassados ao sócios como **dividendos**, dado que por enquanto ainda não há incidência de Imposto sobre dividendos.*"
   ]
  },
  {
   "cell_type": "code",
   "execution_count": 16,
   "metadata": {},
   "outputs": [
    {
     "name": "stdout",
     "output_type": "stream",
     "text": [
      "Valor do Pro-Labore mensal: R$ 5,100.00\n"
     ]
    }
   ],
   "source": [
    "pro_labore = PJ.ProLabore_FatorR(receita_mensal_PJ, 0.30)  # Cálculo do valor mensal do Pro-labore, utilizando fator R de 30%\n",
    "\n",
    "print(f\"Valor do Pro-Labore mensal: R$ {pro_labore:,.2f}\")  # Pro-Labore mensal"
   ]
  },
  {
   "cell_type": "markdown",
   "metadata": {},
   "source": [
    "#### Recolhimento de imposto DAS."
   ]
  },
  {
   "cell_type": "markdown",
   "metadata": {},
   "source": [
    "A DAS é uma via única de recolhimento de imposto para PJ.\n",
    "\n",
    "O valor anual da DAS durante os primeiros 12 meses de atividade da empresa pode vir acima do valor calculado a seguir, devido ao cálculo proporcionalizado durante os 12 primeiros meses. Neste caso é possivel solicitar a restituição de pagamento a maior junto à Receita Federal."
   ]
  },
  {
   "cell_type": "code",
   "execution_count": 17,
   "metadata": {},
   "outputs": [
    {
     "name": "stdout",
     "output_type": "stream",
     "text": [
      "Imposto DAS anual: R$ 11,584.00\n"
     ]
    }
   ],
   "source": [
    "imposto_DAS_anual = PJ.DAS_SimplesNacionalIII(receita_anual_PJ)  # Cálculo do imposto a ser recolhido via DAS\n",
    "\n",
    "print(f\"Imposto DAS anual: R$ {imposto_DAS_anual:,.2f}\")  # Pro-Labore mensal"
   ]
  },
  {
   "cell_type": "markdown",
   "metadata": {},
   "source": [
    "#### Impostos Pessoa Física -- Pro-Labore"
   ]
  },
  {
   "cell_type": "markdown",
   "metadata": {},
   "source": [
    "Além da incidência de impostos sobre a Pessoa Jurídica, há tambéma  incidência sobre a Pessoa Física, sobre o valor do Pró-Labore."
   ]
  },
  {
   "cell_type": "code",
   "execution_count": 18,
   "metadata": {},
   "outputs": [
    {
     "name": "stdout",
     "output_type": "stream",
     "text": [
      "Valor mensal do INSS: R$ 561.00\n",
      "IR Simplificado sobre o pró-labore: R$ 189.88\n",
      "IR Completo sobre o pró-labore: R$ 342.49\n"
     ]
    }
   ],
   "source": [
    "### INSS sobre pro-labore 11%\n",
    "INSS_prolabore_mensal = pro_labore * 0.11  # INSS sobre Pró-labore 11%\n",
    "print(f\"Valor mensal do INSS: R$ {INSS_prolabore_mensal:,.2f}\")\n",
    "\n",
    "## IRRF sobre pro-labore\n",
    "prolabore_base = pro_labore - INSS_prolabore_mensal\n",
    "\n",
    "IR_prolabore_mensal_simplificado = CLT.IR_Mensal_Simplificado(prolabore_base)  # Opção de IR sobre pró-labore com cálculo simplificado\n",
    "IR_prolabore_mensal_completo = CLT.IR_Mensal(prolabore_base, numero_dependentes)  # Opção de IR sobre pró-labore com cálculo completo\n",
    "\n",
    "print(f\"IR Simplificado sobre o pró-labore: R$ {IR_prolabore_mensal_simplificado:,.2f}\")\n",
    "print(f\"IR Completo sobre o pró-labore: R$ {IR_prolabore_mensal_completo:,.2f}\")"
   ]
  },
  {
   "cell_type": "code",
   "execution_count": 19,
   "metadata": {},
   "outputs": [
    {
     "name": "stdout",
     "output_type": "stream",
     "text": [
      "Rendimento líquido anual para PJ (com IR simplificado sobre Pró-Labore): R$ 167,056.32\n",
      "Rendimento líquido anual para PJ (com IR completo sobre Pró-Labore): R$ 165,377.61\n"
     ]
    }
   ],
   "source": [
    "rendimento_liquido_anual_PJ_simpl = receita_anual_PJ - imposto_DAS_anual - contador - outros_custos - seguro_saude - (INSS_prolabore_mensal + IR_prolabore_mensal_simplificado) * (12 - meses_ferias)\n",
    "rendimento_liquido_anual_PJ_compl = receita_anual_PJ - imposto_DAS_anual - contador - outros_custos - seguro_saude - (INSS_prolabore_mensal + IR_prolabore_mensal_completo) * (12 - meses_ferias)\n",
    "\n",
    "print(f\"Rendimento líquido anual para PJ (com IR simplificado sobre Pró-Labore): R$ {rendimento_liquido_anual_PJ_simpl:,.2f}\")\n",
    "print(f\"Rendimento líquido anual para PJ (com IR completo sobre Pró-Labore): R$ {rendimento_liquido_anual_PJ_compl:,.2f}\")"
   ]
  },
  {
   "cell_type": "code",
   "execution_count": 20,
   "metadata": {},
   "outputs": [],
   "source": [
    "# Agregando os resultados dos cálculos para PJ Simplificado\n",
    "resultado_PJ_Simp = []  # Montar variável com resultados PJ Simplificado\n",
    "\n",
    "resultado_PJ_Simp.append(f'R$ {salario_PJ_hora:,.2f} /hora')  # Ref\n",
    "resultado_PJ_Simp.append(receita_mensal_PJ)  # Salário Mensal\n",
    "resultado_PJ_Simp.append(receita_mensal_PJ-INSS_prolabore_mensal-IR_prolabore_mensal_simplificado-imposto_DAS_anual/12)  # Salário Mensal Líquido\n",
    "resultado_PJ_Simp.append(rendimento_liquido_anual_PJ_simpl)  # Salário Anual Líquido\n",
    "resultado_PJ_Simp.append(rendimento_liquido_anual_PJ_simpl)  # Liquido + Benefícios (Anual)"
   ]
  },
  {
   "cell_type": "code",
   "execution_count": 21,
   "metadata": {},
   "outputs": [],
   "source": [
    "# Agregando os resultados dos cálculos para PJ Completo\n",
    "resultado_PJ_Comp = []  # Montar variável com resultados PJ Completo\n",
    "\n",
    "resultado_PJ_Comp.append(f'R$ {salario_PJ_hora:,.2f} /hora')  # Ref\n",
    "resultado_PJ_Comp.append(receita_mensal_PJ)  # Salário Mensal\n",
    "resultado_PJ_Comp.append(receita_mensal_PJ-INSS_prolabore_mensal-IR_prolabore_mensal_completo-imposto_DAS_anual/12)  # Salário Mensal Líquido\n",
    "resultado_PJ_Comp.append(rendimento_liquido_anual_PJ_compl)  # Salário Anual Líquido\n",
    "resultado_PJ_Comp.append(rendimento_liquido_anual_PJ_compl)  # Liquido + Benefícios (Anual)"
   ]
  },
  {
   "cell_type": "markdown",
   "metadata": {
    "pycharm": {}
   },
   "source": [
    "# Resultado"
   ]
  },
  {
   "cell_type": "markdown",
   "metadata": {},
   "source": [
    "A tabela apresenta o resultado comparativo entre as opções de contratação CLT e PJ. Para cada uma das modalidades são consideradas as diferentes formas de tributação (Simplificada e Completa). \n",
    "\n",
    "O resultado aparecerá ordenado pelo valor Líquido + Benefícios (Anual) de forma decescente.\n",
    "\n",
    "Reforçando que os resultados apresentados são uma estimativa e podem variar na remuneração real."
   ]
  },
  {
   "cell_type": "code",
   "execution_count": 22,
   "metadata": {},
   "outputs": [],
   "source": [
    "# Parâmetros, opções e formatação da tabela\n",
    "\n",
    "table_columns = [\"Ref\", \"Salário Mensal\", \"Salário Líquido Mensal\",\"Salário Líquido Anual\",\"Líquido + Benefícios (Anual)\"]\n",
    "table_index = ['CLT (Simplificado)', 'CLT (Completo)', 'PJ (Simplificado)', 'PJ (Completo)']\n",
    "\n",
    "pd.options.display.max_columns = None\n",
    "pd.options.display.float_format = 'R$ {:,.2f}'.format  # Format float numbers in dataTable"
   ]
  },
  {
   "cell_type": "code",
   "execution_count": 23,
   "metadata": {},
   "outputs": [
    {
     "data": {
      "text/html": [
       "<div>\n",
       "<style scoped>\n",
       "    .dataframe tbody tr th:only-of-type {\n",
       "        vertical-align: middle;\n",
       "    }\n",
       "\n",
       "    .dataframe tbody tr th {\n",
       "        vertical-align: top;\n",
       "    }\n",
       "\n",
       "    .dataframe thead th {\n",
       "        text-align: right;\n",
       "    }\n",
       "</style>\n",
       "<table border=\"1\" class=\"dataframe\">\n",
       "  <thead>\n",
       "    <tr style=\"text-align: right;\">\n",
       "      <th></th>\n",
       "      <th>Ref</th>\n",
       "      <th>Salário Mensal</th>\n",
       "      <th>Salário Líquido Mensal</th>\n",
       "      <th>Salário Líquido Anual</th>\n",
       "      <th>Líquido + Benefícios (Anual)</th>\n",
       "      <th>Diferença Anual</th>\n",
       "      <th>Equivalente Mensal Líquido</th>\n",
       "    </tr>\n",
       "  </thead>\n",
       "  <tbody>\n",
       "    <tr>\n",
       "      <th>PJ (Simplificado)</th>\n",
       "      <td>R$ 100.00 /hora</td>\n",
       "      <td>R$ 17,000.00</td>\n",
       "      <td>R$ 15,283.79</td>\n",
       "      <td>R$ 167,056.32</td>\n",
       "      <td>R$ 167,056.32</td>\n",
       "      <td>R$ 0.00</td>\n",
       "      <td>R$ 13,921.36</td>\n",
       "    </tr>\n",
       "    <tr>\n",
       "      <th>PJ (Completo)</th>\n",
       "      <td>R$ 100.00 /hora</td>\n",
       "      <td>R$ 17,000.00</td>\n",
       "      <td>R$ 15,131.18</td>\n",
       "      <td>R$ 165,377.61</td>\n",
       "      <td>R$ 165,377.61</td>\n",
       "      <td>R$ -1,678.71</td>\n",
       "      <td>R$ 13,781.47</td>\n",
       "    </tr>\n",
       "    <tr>\n",
       "      <th>CLT (Simplificado)</th>\n",
       "      <td>R$ 10,000.00 /mês</td>\n",
       "      <td>R$ 10,000.00</td>\n",
       "      <td>R$ 7,917.37</td>\n",
       "      <td>R$ 95,008.44</td>\n",
       "      <td>R$ 151,744.01</td>\n",
       "      <td>R$ -15,312.31</td>\n",
       "      <td>R$ 12,645.33</td>\n",
       "    </tr>\n",
       "    <tr>\n",
       "      <th>CLT (Completo)</th>\n",
       "      <td>R$ 10,000.00 /mês</td>\n",
       "      <td>R$ 10,000.00</td>\n",
       "      <td>R$ 7,626.30</td>\n",
       "      <td>R$ 91,515.60</td>\n",
       "      <td>R$ 147,776.77</td>\n",
       "      <td>R$ -19,279.55</td>\n",
       "      <td>R$ 12,314.73</td>\n",
       "    </tr>\n",
       "  </tbody>\n",
       "</table>\n",
       "</div>"
      ],
      "text/plain": [
       "                                  Ref  Salário Mensal  Salário Líquido Mensal  \\\n",
       "PJ (Simplificado)     R$ 100.00 /hora    R$ 17,000.00            R$ 15,283.79   \n",
       "PJ (Completo)         R$ 100.00 /hora    R$ 17,000.00            R$ 15,131.18   \n",
       "CLT (Simplificado)  R$ 10,000.00 /mês    R$ 10,000.00             R$ 7,917.37   \n",
       "CLT (Completo)      R$ 10,000.00 /mês    R$ 10,000.00             R$ 7,626.30   \n",
       "\n",
       "                    Salário Líquido Anual  Líquido + Benefícios (Anual)  \\\n",
       "PJ (Simplificado)           R$ 167,056.32                 R$ 167,056.32   \n",
       "PJ (Completo)               R$ 165,377.61                 R$ 165,377.61   \n",
       "CLT (Simplificado)           R$ 95,008.44                 R$ 151,744.01   \n",
       "CLT (Completo)               R$ 91,515.60                 R$ 147,776.77   \n",
       "\n",
       "                    Diferença Anual  Equivalente Mensal Líquido  \n",
       "PJ (Simplificado)           R$ 0.00                R$ 13,921.36  \n",
       "PJ (Completo)          R$ -1,678.71                R$ 13,781.47  \n",
       "CLT (Simplificado)    R$ -15,312.31                R$ 12,645.33  \n",
       "CLT (Completo)        R$ -19,279.55                R$ 12,314.73  "
      ]
     },
     "metadata": {},
     "output_type": "display_data"
    }
   ],
   "source": [
    "df = pd.DataFrame([resultado_CLT_Simp, resultado_CLT_Comp, resultado_PJ_Simp, resultado_PJ_Comp], \n",
    "                  columns=table_columns, \n",
    "                  index=table_index)\n",
    "\n",
    "# Novas colunas calculadas\n",
    "df['Diferença Anual'] = df['Líquido + Benefícios (Anual)'] - df['Líquido + Benefícios (Anual)'].max()  # Diferença para o maior valor\n",
    "df['Equivalente Mensal Líquido'] = df['Líquido + Benefícios (Anual)']/12  # Define column Equivalente Mensal\n",
    "df = df.sort_values(by='Líquido + Benefícios (Anual)', ascending=False)\n",
    "\n",
    "display(df)"
   ]
  },
  {
   "cell_type": "markdown",
   "metadata": {},
   "source": [
    "_**Legenda:**_\n",
    "\n",
    "| Coluna | Descrição |\n",
    "| :---------- | :---------- |\n",
    "| Ref | *Referência da linha* |\n",
    "| Salário Mensal | *Salário (ou receita) bruto mensal* |\n",
    "| Salário Líquido Mensal | *Salário (ou receita) mensal já descontados os impostos* |\n",
    "| Salário Líquido Anual | *Salário líquido mensal multiplicado pelo número de meses trabalhados (não incluso benefícios)* |\n",
    "| Liquido + Benefícios (Anual) | *Salário Líquido + Benefícios anuais já aplicados os descontos*|"
   ]
  },
  {
   "cell_type": "markdown",
   "metadata": {},
   "source": [
    "## Referências\n",
    "\n",
    "https://fdr.com.br/calculadora/fgts/\n",
    "\n",
    "https://www.idinheiro.com.br/calculadoras/calculadora-fgts/\n",
    "\n",
    "https://www.contabilizei.com.br/contabilidade-online/irpf-2021-o-que-e-descontado-na-fonte-e-como-funciona-o-ajuste-anual/\n",
    "\n",
    "https://www.idinheiro.com.br/calculadoras/calculadora-de-ferias/\n",
    "\n",
    "https://www.contabilizei.com.br/contabilidade-online/desconto-inss/\n",
    "\n",
    "https://wkrh.com.br/impostos-profissional-pj/\n",
    "\n",
    "https://www.contratopj.com.br/quais-impostos-a-pagar-trabalhando-como-pj/\n",
    "\n",
    "https://www.contratopj.com.br/fator-r-simples-nacional/\n"
   ]
  },
  {
   "cell_type": "code",
   "execution_count": null,
   "metadata": {},
   "outputs": [],
   "source": []
  }
 ],
 "metadata": {
  "kernelspec": {
   "display_name": "Python 3",
   "language": "python",
   "name": "python3"
  },
  "language_info": {
   "codemirror_mode": {
    "name": "ipython",
    "version": 3
   },
   "file_extension": ".py",
   "mimetype": "text/x-python",
   "name": "python",
   "nbconvert_exporter": "python",
   "pygments_lexer": "ipython3",
   "version": "3.7.11"
  },
  "stem_cell": {
   "cell_type": "raw",
   "metadata": {
    "pycharm": {
     "metadata": false
    }
   },
   "source": ""
  }
 },
 "nbformat": 4,
 "nbformat_minor": 1
}
